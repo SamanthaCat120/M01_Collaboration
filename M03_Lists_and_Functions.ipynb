{
 "cells": [
  {
   "cell_type": "markdown",
   "id": "27fb8523-f2dd-49e8-a1f6-4fd4a8dfccf1",
   "metadata": {},
   "source": [
    "7.4 Make a list called things with these three strings as elements: \"mozzarella\", \"cinderella\", \"salmonella\"."
   ]
  },
  {
   "cell_type": "code",
   "execution_count": null,
   "id": "f88df1cd-8ae0-482f-9625-bcabd13430a4",
   "metadata": {},
   "outputs": [],
   "source": [
    "things = ['mozzarella', 'cinderella', 'salmonella']"
   ]
  },
  {
   "cell_type": "markdown",
   "id": "eb81cf4c-ba02-4ca4-b041-9ccbbea1120e",
   "metadata": {},
   "source": [
    "7.5 Capitalize the element in things that refers to a person and then print the list. Did it change the element in the list?\n",
    "\n",
    "no. The list is unchanged. I could change the element in the list by doing something like:\n",
    "\n",
    "things = ['mozzarella', 'cinderella', 'salmonella']\n",
    "\n",
    "things[1] = things[1].capitalize()\n",
    "print(things)"
   ]
  },
  {
   "cell_type": "code",
   "execution_count": null,
   "id": "f3bd30ba-272f-4e11-b060-dbdaa0b684fc",
   "metadata": {},
   "outputs": [],
   "source": [
    "if 'cinderella' in things:\n",
    "    capitalized_cinderella = 'cinderella'.capitalize()\n",
    "    print(capitalized_cinderella)\n",
    "    print(things)"
   ]
  },
  {
   "cell_type": "markdown",
   "id": "5206c3e7-4102-41be-8c93-8db0ada349c3",
   "metadata": {},
   "source": [
    "7.6 Make the cheesy element of things all uppercase and then print the list."
   ]
  },
  {
   "cell_type": "code",
   "execution_count": null,
   "id": "53a85b88-1161-4239-9f3b-d738019f18c5",
   "metadata": {},
   "outputs": [],
   "source": [
    "if 'mozzarella' in things:\n",
    "    upper_mozzarella = 'mozzarella'.upper()\n",
    "    print(upper_mozzarella)\n",
    "    print(things)"
   ]
  },
  {
   "cell_type": "markdown",
   "id": "a3438c07-974b-4826-b7b4-40930090c124",
   "metadata": {},
   "source": [
    "7.7 Delete the disease element from things, collect your Nobel Prize, and print the list."
   ]
  },
  {
   "cell_type": "code",
   "execution_count": null,
   "id": "5278034d-0f18-4280-bee2-5d09c45ce1e9",
   "metadata": {},
   "outputs": [],
   "source": [
    "if 'salmonella' in things:\n",
    "    things.remove('salmonella')\n",
    "    print(things)"
   ]
  },
  {
   "cell_type": "markdown",
   "id": "1a4ac1db-18d8-4b69-8d53-67f5433ef6b0",
   "metadata": {},
   "source": [
    "9.1 Define a function called good() that returns the following list: ['Harry', 'Ron', 'Hermione']."
   ]
  },
  {
   "cell_type": "code",
   "execution_count": null,
   "id": "dd757bda-6856-4dbc-97b1-504dee9296be",
   "metadata": {},
   "outputs": [],
   "source": [
    "kids = ['Harry', 'Ron', 'Hermione']\n",
    "\n",
    "def good():\n",
    "    print(kids)\n",
    "\n",
    "if __name__ == __main__\n",
    "    good()"
   ]
  },
  {
   "cell_type": "markdown",
   "id": "fb11cb0b-bc82-42e0-b94e-da98a0e84189",
   "metadata": {},
   "source": [
    "9.2 Define a generator function called get_odds() that returns the odd numbers from range(10). Use a for loop to find and print the third value returned."
   ]
  },
  {
   "cell_type": "code",
   "execution_count": null,
   "id": "206d6dd1-7720-480d-934a-6ff5a40aaf6f",
   "metadata": {},
   "outputs": [],
   "source": [
    "\"\"\"\n",
    "getOdd.py\n",
    "\n",
    "Define a generator function called get_odds() that returns the odd numbers\n",
    "from range(10). Then, uses a for loop to get every 3rd number in list.\n",
    "\n",
    "by Samantha Lopez 09/16/2023\n",
    "\"\"\"\n",
    "\n",
    "\n",
    "def get_odds():\n",
    "    oddNums = []\n",
    "    for x in range(10):\n",
    "        if x % 2 != 0:\n",
    "            oddNums.append(x)\n",
    "    print(oddNums)\n",
    "    return oddNums\n",
    "\n",
    "\n",
    "if __name__ == '__main__':\n",
    "\n",
    "    # Call the get_odds() function\n",
    "    numbers = get_odds()\n",
    "\n",
    "    # Prints 3rd numbers in list\n",
    "    for i in range(2, len(numbers), 3):\n",
    "        print(f'The third number is {numbers[i]}')\n",
    "    "
   ]
  }
 ],
 "metadata": {
  "kernelspec": {
   "display_name": "Python 3 (ipykernel)",
   "language": "python",
   "name": "python3"
  },
  "language_info": {
   "codemirror_mode": {
    "name": "ipython",
    "version": 3
   },
   "file_extension": ".py",
   "mimetype": "text/x-python",
   "name": "python",
   "nbconvert_exporter": "python",
   "pygments_lexer": "ipython3",
   "version": "3.11.5"
  }
 },
 "nbformat": 4,
 "nbformat_minor": 5
}
